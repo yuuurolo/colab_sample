{
  "nbformat": 4,
  "nbformat_minor": 0,
  "metadata": {
    "colab": {
      "provenance": [],
      "include_colab_link": true
    },
    "kernelspec": {
      "name": "python3",
      "display_name": "Python 3"
    }
  },
  "cells": [
    {
      "cell_type": "markdown",
      "metadata": {
        "id": "view-in-github",
        "colab_type": "text"
      },
      "source": [
        "<a href=\"https://colab.research.google.com/github/yuuurolo/colab_sample/blob/main/settings_functions.ipynb\" target=\"_parent\"><img src=\"https://colab.research.google.com/assets/colab-badge.svg\" alt=\"Open In Colab\"/></a>"
      ]
    },
    {
      "cell_type": "markdown",
      "metadata": {
        "id": "nu3EtJX7VdD8"
      },
      "source": [
        "## Colabの各設定と様々な機能\n",
        "Google Colaboratoryの各設定と様々な機能を解説します。"
      ]
    },
    {
      "cell_type": "markdown",
      "metadata": {
        "id": "pD_iADQHVmrz"
      },
      "source": [
        "## ●セッションの管理\n",
        "ランタイム → セッションの管理で現在のセッションの一覧が表示されます。"
      ]
    },
    {
      "cell_type": "markdown",
      "metadata": {
        "id": "fbKm_vIXWKfk"
      },
      "source": [
        "## ●Pythonのバージョン選択\n",
        "編集 → ノートブックの設定でPython2かPython3のどちらかを選択することができます。"
      ]
    },
    {
      "cell_type": "markdown",
      "metadata": {
        "id": "G5xcg63eYIVo"
      },
      "source": [
        "## ●スクラッチコードセル\n",
        "挿入 → スクラッチコードセルにより、簡単なコードを書いて試せるセルが出現します。"
      ]
    },
    {
      "cell_type": "markdown",
      "metadata": {
        "id": "2lBU2WVoZOcP"
      },
      "source": [
        "## ●コードスニペット\n",
        "挿入 → コードスニペットにより様々なコードのスニペットをノートブックに挿入することができます。"
      ]
    },
    {
      "cell_type": "markdown",
      "metadata": {
        "id": "c6BT46yRZm6t"
      },
      "source": [
        "## ●コードの実行履歴\n",
        "表示 → コードの実行履歴により、コードの実行履歴を確認することができます。"
      ]
    },
    {
      "cell_type": "markdown",
      "metadata": {
        "id": "UeKLv4g8Z1N_"
      },
      "source": [
        "他にも、Google Colaboratoryは様々な便利な機能を持っています。"
      ]
    }
  ]
}